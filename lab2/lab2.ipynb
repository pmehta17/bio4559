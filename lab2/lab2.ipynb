{
 "cells": [
  {
   "cell_type": "markdown",
   "id": "48570d0e",
   "metadata": {},
   "source": [
    "# Lab 2\n",
    "\n",
    "**Goal**: In this lab we will learn how to import our own data into python, build networks, and explore how our modeling choices can affect the analysis and interpretation of the data.\n",
    "\n",
    "**Before we get started**:\n",
    "1. In GitHub Desktop, make a new branch titled `comp-activity-2` for your repository `BIOL4559homework`.\n",
    "2. Put this notebook in the repository.\n",
    "3. Activate your conda environment by running `conda activate biol4559` and run jupyter using `jupyter notebook`.\n",
    "\n",
    "**After the completion of this lab**\n",
    "1. List the people with whom you worked on this lab.\n",
    "2. Make a pull request and title it \"Grade Computational Activity 2\".\n",
    "3. Assign @AbhayGupta115 as a reviewer.\n",
    "4. Submit the pull request.\n",
    "\n",
    "**How you will be graded**\n",
    "\n",
    "This activity is out of 10 points. You will be graded on two things: completion, clear documentation, and correctness of your process.\n",
    "\n",
    "* *Completion (4pts)*: This is solely whether you attempted and completed all portions of the computational assignment.\n",
    "* *Documentation (4pts)*: Write comments above your code, describing what it does to demonstrate that you understand what the code is doing. ** Examples of good and bad documentation below.\n",
    "* *Correctness (2pts)*: Does your code run and produce the correct output?\n"
   ]
  },
  {
   "cell_type": "markdown",
   "id": "94826528",
   "metadata": {},
   "source": [
    "# Polars\n",
    "\n",
    "The two main libraries used for data analysis in python are pandas and polars. Pandas is the more widely used library, but polars is faster and more efficient for larger datasets. Here we will use polars to import and prepare our data for use in networkx.\n",
    "\n",
    "Lets start by importing the necessary libraries."
   ]
  },
  {
   "cell_type": "code",
   "execution_count": 17,
   "id": "012aee0c",
   "metadata": {},
   "outputs": [],
   "source": [
    "import polars as pl"
   ]
  },
  {
   "cell_type": "markdown",
   "id": "cc6ecdc3",
   "metadata": {},
   "source": [
    "To import data using polars, we use the `read_csv` function. This function takes in the file path of the data and returns a polars dataframe. Here we will import the beetle data (cook_social_2020.csv) provided to you."
   ]
  },
  {
   "cell_type": "code",
   "execution_count": 18,
   "id": "db56cc71",
   "metadata": {},
   "outputs": [
    {
     "data": {
      "text/html": [
       "<div><style>\n",
       ".dataframe > thead > tr,\n",
       ".dataframe > tbody > tr {\n",
       "  text-align: right;\n",
       "  white-space: pre-wrap;\n",
       "}\n",
       "</style>\n",
       "<small>shape: (20, 9)</small><table border=\"1\" class=\"dataframe\"><thead><tr><th>datetime</th><th>condo</th><th>focal_id</th><th>sex</th><th>behavior</th><th>grid_cell</th><th>cell_location</th><th>partner_id</th><th>partner_interaction</th></tr><tr><td>str</td><td>str</td><td>str</td><td>str</td><td>str</td><td>str</td><td>str</td><td>str</td><td>str</td></tr></thead><tbody><tr><td>&quot;2018-06-27T06:26:00Z&quot;</td><td>&quot;6B&quot;</td><td>&quot;3PS&quot;</td><td>&quot;F&quot;</td><td>&quot;S&quot;</td><td>&quot;A02&quot;</td><td>&quot;C&quot;</td><td>null</td><td>null</td></tr><tr><td>&quot;2018-06-27T06:27:00Z&quot;</td><td>&quot;6B&quot;</td><td>&quot;3HO&quot;</td><td>&quot;F&quot;</td><td>&quot;S&quot;</td><td>&quot;W&quot;</td><td>null</td><td>null</td><td>null</td></tr><tr><td>&quot;2018-06-27T06:27:00Z&quot;</td><td>&quot;6B&quot;</td><td>&quot;2B3&quot;</td><td>&quot;M&quot;</td><td>&quot;S&quot;</td><td>&quot;W&quot;</td><td>null</td><td>null</td><td>null</td></tr><tr><td>&quot;2018-06-27T06:28:00Z&quot;</td><td>&quot;6B&quot;</td><td>&quot;2LM&quot;</td><td>&quot;M&quot;</td><td>&quot;S&quot;</td><td>&quot;A09&quot;</td><td>&quot;B&quot;</td><td>null</td><td>null</td></tr><tr><td>&quot;2018-06-27T06:29:00Z&quot;</td><td>&quot;6B&quot;</td><td>&quot;3KL&quot;</td><td>&quot;F&quot;</td><td>&quot;DEAD&quot;</td><td>&quot;A10&quot;</td><td>&quot;T&quot;</td><td>null</td><td>null</td></tr><tr><td>&hellip;</td><td>&hellip;</td><td>&hellip;</td><td>&hellip;</td><td>&hellip;</td><td>&hellip;</td><td>&hellip;</td><td>&hellip;</td><td>&hellip;</td></tr><tr><td>&quot;2018-06-27T06:37:00Z&quot;</td><td>&quot;6B&quot;</td><td>&quot;3OP&quot;</td><td>&quot;F&quot;</td><td>&quot;S&quot;</td><td>&quot;M&quot;</td><td>null</td><td>null</td><td>null</td></tr><tr><td>&quot;2018-06-27T06:38:00Z&quot;</td><td>&quot;6B&quot;</td><td>&quot;3WL&quot;</td><td>&quot;F&quot;</td><td>&quot;S&quot;</td><td>&quot;W&quot;</td><td>null</td><td>null</td><td>null</td></tr><tr><td>&quot;2018-06-27T06:39:00Z&quot;</td><td>&quot;6A&quot;</td><td>&quot;3SS&quot;</td><td>&quot;F&quot;</td><td>&quot;S&quot;</td><td>&quot;LEG&quot;</td><td>null</td><td>null</td><td>null</td></tr><tr><td>&quot;2018-06-27T06:40:00Z&quot;</td><td>&quot;6A&quot;</td><td>&quot;2PL&quot;</td><td>&quot;M&quot;</td><td>&quot;S&quot;</td><td>&quot;A03&quot;</td><td>&quot;C&quot;</td><td>null</td><td>null</td></tr><tr><td>&quot;2018-06-27T06:41:00Z&quot;</td><td>&quot;6A&quot;</td><td>&quot;2KV&quot;</td><td>&quot;M&quot;</td><td>&quot;CRT&quot;</td><td>&quot;A07&quot;</td><td>&quot;C&quot;</td><td>&quot;3FO&quot;</td><td>&quot;Mating Partners&quot;</td></tr></tbody></table></div>"
      ],
      "text/plain": [
       "shape: (20, 9)\n",
       "┌──────────────┬───────┬──────────┬─────┬───┬───────────┬──────────────┬────────────┬──────────────┐\n",
       "│ datetime     ┆ condo ┆ focal_id ┆ sex ┆ … ┆ grid_cell ┆ cell_locatio ┆ partner_id ┆ partner_inte │\n",
       "│ ---          ┆ ---   ┆ ---      ┆ --- ┆   ┆ ---       ┆ n            ┆ ---        ┆ raction      │\n",
       "│ str          ┆ str   ┆ str      ┆ str ┆   ┆ str       ┆ ---          ┆ str        ┆ ---          │\n",
       "│              ┆       ┆          ┆     ┆   ┆           ┆ str          ┆            ┆ str          │\n",
       "╞══════════════╪═══════╪══════════╪═════╪═══╪═══════════╪══════════════╪════════════╪══════════════╡\n",
       "│ 2018-06-27T0 ┆ 6B    ┆ 3PS      ┆ F   ┆ … ┆ A02       ┆ C            ┆ null       ┆ null         │\n",
       "│ 6:26:00Z     ┆       ┆          ┆     ┆   ┆           ┆              ┆            ┆              │\n",
       "│ 2018-06-27T0 ┆ 6B    ┆ 3HO      ┆ F   ┆ … ┆ W         ┆ null         ┆ null       ┆ null         │\n",
       "│ 6:27:00Z     ┆       ┆          ┆     ┆   ┆           ┆              ┆            ┆              │\n",
       "│ 2018-06-27T0 ┆ 6B    ┆ 2B3      ┆ M   ┆ … ┆ W         ┆ null         ┆ null       ┆ null         │\n",
       "│ 6:27:00Z     ┆       ┆          ┆     ┆   ┆           ┆              ┆            ┆              │\n",
       "│ 2018-06-27T0 ┆ 6B    ┆ 2LM      ┆ M   ┆ … ┆ A09       ┆ B            ┆ null       ┆ null         │\n",
       "│ 6:28:00Z     ┆       ┆          ┆     ┆   ┆           ┆              ┆            ┆              │\n",
       "│ 2018-06-27T0 ┆ 6B    ┆ 3KL      ┆ F   ┆ … ┆ A10       ┆ T            ┆ null       ┆ null         │\n",
       "│ 6:29:00Z     ┆       ┆          ┆     ┆   ┆           ┆              ┆            ┆              │\n",
       "│ …            ┆ …     ┆ …        ┆ …   ┆ … ┆ …         ┆ …            ┆ …          ┆ …            │\n",
       "│ 2018-06-27T0 ┆ 6B    ┆ 3OP      ┆ F   ┆ … ┆ M         ┆ null         ┆ null       ┆ null         │\n",
       "│ 6:37:00Z     ┆       ┆          ┆     ┆   ┆           ┆              ┆            ┆              │\n",
       "│ 2018-06-27T0 ┆ 6B    ┆ 3WL      ┆ F   ┆ … ┆ W         ┆ null         ┆ null       ┆ null         │\n",
       "│ 6:38:00Z     ┆       ┆          ┆     ┆   ┆           ┆              ┆            ┆              │\n",
       "│ 2018-06-27T0 ┆ 6A    ┆ 3SS      ┆ F   ┆ … ┆ LEG       ┆ null         ┆ null       ┆ null         │\n",
       "│ 6:39:00Z     ┆       ┆          ┆     ┆   ┆           ┆              ┆            ┆              │\n",
       "│ 2018-06-27T0 ┆ 6A    ┆ 2PL      ┆ M   ┆ … ┆ A03       ┆ C            ┆ null       ┆ null         │\n",
       "│ 6:40:00Z     ┆       ┆          ┆     ┆   ┆           ┆              ┆            ┆              │\n",
       "│ 2018-06-27T0 ┆ 6A    ┆ 2KV      ┆ M   ┆ … ┆ A07       ┆ C            ┆ 3FO        ┆ Mating       │\n",
       "│ 6:41:00Z     ┆       ┆          ┆     ┆   ┆           ┆              ┆            ┆ Partners     │\n",
       "└──────────────┴───────┴──────────┴─────┴───┴───────────┴──────────────┴────────────┴──────────────┘"
      ]
     },
     "execution_count": 18,
     "metadata": {},
     "output_type": "execute_result"
    }
   ],
   "source": [
    "filepath = \"cook_social_2020.csv\"\n",
    "df = pl.read_csv(filepath)  \n",
    "\n",
    "\n",
    "df.head(20)"
   ]
  },
  {
   "cell_type": "code",
   "execution_count": 19,
   "id": "890ce128",
   "metadata": {},
   "outputs": [
    {
     "data": {
      "text/html": [
       "<div><style>\n",
       ".dataframe > thead > tr,\n",
       ".dataframe > tbody > tr {\n",
       "  text-align: right;\n",
       "  white-space: pre-wrap;\n",
       "}\n",
       "</style>\n",
       "<small>shape: (75_731,)</small><table border=\"1\" class=\"dataframe\"><thead><tr><th>partner_id</th></tr><tr><td>str</td></tr></thead><tbody><tr><td>null</td></tr><tr><td>null</td></tr><tr><td>null</td></tr><tr><td>null</td></tr><tr><td>null</td></tr><tr><td>&hellip;</td></tr><tr><td>&quot;4K2&quot;</td></tr><tr><td>&quot;5AS&quot;</td></tr><tr><td>&quot;4AW&quot;</td></tr><tr><td>&quot;3MB&quot;</td></tr><tr><td>&quot;2FY&quot;</td></tr></tbody></table></div>"
      ],
      "text/plain": [
       "shape: (75_731,)\n",
       "Series: 'partner_id' [str]\n",
       "[\n",
       "\tnull\n",
       "\tnull\n",
       "\tnull\n",
       "\tnull\n",
       "\tnull\n",
       "\t…\n",
       "\t\"4K2\"\n",
       "\t\"5AS\"\n",
       "\t\"4AW\"\n",
       "\t\"3MB\"\n",
       "\t\"2FY\"\n",
       "]"
      ]
     },
     "execution_count": 19,
     "metadata": {},
     "output_type": "execute_result"
    }
   ],
   "source": [
    "partner_id_series = df[\"partner_id\"]\n",
    "partner_id_series"
   ]
  },
  {
   "cell_type": "markdown",
   "id": "bdac2b5d",
   "metadata": {},
   "source": [
    "Now that we have our data imported, we can start to explore it. The beetle data contains observations of social interactions between beetles. Each row in the dataframe represents an interaction between two beetles, identified by their `focal_id` and `partner_id`. The `condo` column indicates the location of the interaction, and the `datetime` column indicates when the interaction occurred.\n",
    "\n",
    "For now the datetime column is represented as string. We need to convert it to a datetime object so that we can filter the data by date. We can do this using the `to_datetime` function. We then replace the existing datetime column with the new datetime object."
   ]
  },
  {
   "cell_type": "code",
   "execution_count": 20,
   "id": "41d08656",
   "metadata": {},
   "outputs": [
    {
     "data": {
      "text/html": [
       "<div><style>\n",
       ".dataframe > thead > tr,\n",
       ".dataframe > tbody > tr {\n",
       "  text-align: right;\n",
       "  white-space: pre-wrap;\n",
       "}\n",
       "</style>\n",
       "<small>shape: (75_731,)</small><table border=\"1\" class=\"dataframe\"><thead><tr><th>datetime</th></tr><tr><td>str</td></tr></thead><tbody><tr><td>&quot;2018-06-27T06:26:00Z&quot;</td></tr><tr><td>&quot;2018-06-27T06:27:00Z&quot;</td></tr><tr><td>&quot;2018-06-27T06:27:00Z&quot;</td></tr><tr><td>&quot;2018-06-27T06:28:00Z&quot;</td></tr><tr><td>&quot;2018-06-27T06:29:00Z&quot;</td></tr><tr><td>&hellip;</td></tr><tr><td>&quot;2020-08-18T22:00:00Z&quot;</td></tr><tr><td>&quot;2020-08-22T23:21:00Z&quot;</td></tr><tr><td>&quot;2020-08-22T23:21:00Z&quot;</td></tr><tr><td>&quot;2020-08-21T07:04:00Z&quot;</td></tr><tr><td>&quot;2020-08-21T22:03:00Z&quot;</td></tr></tbody></table></div>"
      ],
      "text/plain": [
       "shape: (75_731,)\n",
       "Series: 'datetime' [str]\n",
       "[\n",
       "\t\"2018-06-27T06:26:00Z\"\n",
       "\t\"2018-06-27T06:27:00Z\"\n",
       "\t\"2018-06-27T06:27:00Z\"\n",
       "\t\"2018-06-27T06:28:00Z\"\n",
       "\t\"2018-06-27T06:29:00Z\"\n",
       "\t…\n",
       "\t\"2020-08-18T22:00:00Z\"\n",
       "\t\"2020-08-22T23:21:00Z\"\n",
       "\t\"2020-08-22T23:21:00Z\"\n",
       "\t\"2020-08-21T07:04:00Z\"\n",
       "\t\"2020-08-21T22:03:00Z\"\n",
       "]"
      ]
     },
     "execution_count": 20,
     "metadata": {},
     "output_type": "execute_result"
    }
   ],
   "source": [
    "dt_series = df[\"datetime\"]\n",
    "dt_series"
   ]
  },
  {
   "cell_type": "code",
   "execution_count": null,
   "id": "7db33a5c",
   "metadata": {},
   "outputs": [
    {
     "data": {
      "text/html": [
       "<div><style>\n",
       ".dataframe > thead > tr,\n",
       ".dataframe > tbody > tr {\n",
       "  text-align: right;\n",
       "  white-space: pre-wrap;\n",
       "}\n",
       "</style>\n",
       "<small>shape: (75_731,)</small><table border=\"1\" class=\"dataframe\"><thead><tr><th>datetime</th></tr><tr><td>datetime[μs, UTC]</td></tr></thead><tbody><tr><td>2018-06-27 06:26:00 UTC</td></tr><tr><td>2018-06-27 06:27:00 UTC</td></tr><tr><td>2018-06-27 06:27:00 UTC</td></tr><tr><td>2018-06-27 06:28:00 UTC</td></tr><tr><td>2018-06-27 06:29:00 UTC</td></tr><tr><td>&hellip;</td></tr><tr><td>2020-08-18 22:00:00 UTC</td></tr><tr><td>2020-08-22 23:21:00 UTC</td></tr><tr><td>2020-08-22 23:21:00 UTC</td></tr><tr><td>2020-08-21 07:04:00 UTC</td></tr><tr><td>2020-08-21 22:03:00 UTC</td></tr></tbody></table></div>"
      ],
      "text/plain": [
       "shape: (75_731,)\n",
       "Series: 'datetime' [datetime[μs, UTC]]\n",
       "[\n",
       "\t2018-06-27 06:26:00 UTC\n",
       "\t2018-06-27 06:27:00 UTC\n",
       "\t2018-06-27 06:27:00 UTC\n",
       "\t2018-06-27 06:28:00 UTC\n",
       "\t2018-06-27 06:29:00 UTC\n",
       "\t…\n",
       "\t2020-08-18 22:00:00 UTC\n",
       "\t2020-08-22 23:21:00 UTC\n",
       "\t2020-08-22 23:21:00 UTC\n",
       "\t2020-08-21 07:04:00 UTC\n",
       "\t2020-08-21 22:03:00 UTC\n",
       "]"
      ]
     },
     "execution_count": 21,
     "metadata": {},
     "output_type": "execute_result"
    }
   ],
   "source": [
    "# with_columns is expr. when called/evaluated\n",
    "# reassigning to original df \n",
    "df = df.with_columns(\n",
    "    pl.col(\"datetime\").str.to_datetime(strict=False)\n",
    ")\n",
    "\n",
    "df[\"datetime\"]\n"
   ]
  },
  {
   "cell_type": "markdown",
   "id": "d72bdbcb",
   "metadata": {},
   "source": [
    "Our data also contains information about unknown beetles, identified by the `focal_id` and `partner_id` values of 'UK', 'UKM', and 'UKF' (look at the ReadMe file). We will filter these out of our data using the `filter` function. This funtion takes in a boolean (True/False) expression and returns a new dataframe with only the rows that satisfy the expression. We can use bitwise operators to combine multiple boolean expressions as well.\n",
    "\n",
    "Bitwise operators are used to combine multiple boolean expressions. The most common bitwise operators are:\n",
    "* & (and): Returns True if both expressions are True\n",
    "* | (or): Returns True if either expression is True\n",
    "* ~ (not): Returns True if the expression is False\n",
    "\n"
   ]
  },
  {
   "cell_type": "code",
   "execution_count": null,
   "id": "6d63a89c",
   "metadata": {},
   "outputs": [],
   "source": [
    "unknown_ids = [\"UK\", \"UKM\", \"UKF\"]\n",
    "\n",
    "df_filtered = df.filter(\n",
    "    (pl.col(\"focal_id\").is_in(unknown_ids)) | (pl.col(\"partner_id\").is_in(unknown_ids))\n",
    ")\n",
    "\n"
   ]
  },
  {
   "cell_type": "markdown",
   "id": "d537a766",
   "metadata": {},
   "source": [
    "Now that we have cleaned our data, we can start choosing which data we want to use to build our networks. For this lab, we will focus on the interactions that took place in condo '6B' during the month of July 2018. We can filter our data using the `filter` function again."
   ]
  },
  {
   "cell_type": "code",
   "execution_count": 23,
   "id": "2b66f6ff",
   "metadata": {},
   "outputs": [
    {
     "data": {
      "text/html": [
       "<div><style>\n",
       ".dataframe > thead > tr,\n",
       ".dataframe > tbody > tr {\n",
       "  text-align: right;\n",
       "  white-space: pre-wrap;\n",
       "}\n",
       "</style>\n",
       "<small>shape: (5, 9)</small><table border=\"1\" class=\"dataframe\"><thead><tr><th>datetime</th><th>condo</th><th>focal_id</th><th>sex</th><th>behavior</th><th>grid_cell</th><th>cell_location</th><th>partner_id</th><th>partner_interaction</th></tr><tr><td>datetime[μs, UTC]</td><td>str</td><td>str</td><td>str</td><td>str</td><td>str</td><td>str</td><td>str</td><td>str</td></tr></thead><tbody><tr><td>2018-06-27 06:26:00 UTC</td><td>&quot;6B&quot;</td><td>&quot;3PS&quot;</td><td>&quot;F&quot;</td><td>&quot;S&quot;</td><td>&quot;A02&quot;</td><td>&quot;C&quot;</td><td>null</td><td>null</td></tr><tr><td>2018-06-27 06:27:00 UTC</td><td>&quot;6B&quot;</td><td>&quot;3HO&quot;</td><td>&quot;F&quot;</td><td>&quot;S&quot;</td><td>&quot;W&quot;</td><td>null</td><td>null</td><td>null</td></tr><tr><td>2018-06-27 06:27:00 UTC</td><td>&quot;6B&quot;</td><td>&quot;2B3&quot;</td><td>&quot;M&quot;</td><td>&quot;S&quot;</td><td>&quot;W&quot;</td><td>null</td><td>null</td><td>null</td></tr><tr><td>2018-06-27 06:28:00 UTC</td><td>&quot;6B&quot;</td><td>&quot;2LM&quot;</td><td>&quot;M&quot;</td><td>&quot;S&quot;</td><td>&quot;A09&quot;</td><td>&quot;B&quot;</td><td>null</td><td>null</td></tr><tr><td>2018-06-27 06:29:00 UTC</td><td>&quot;6B&quot;</td><td>&quot;3KL&quot;</td><td>&quot;F&quot;</td><td>&quot;DEAD&quot;</td><td>&quot;A10&quot;</td><td>&quot;T&quot;</td><td>null</td><td>null</td></tr></tbody></table></div>"
      ],
      "text/plain": [
       "shape: (5, 9)\n",
       "┌──────────────┬───────┬──────────┬─────┬───┬───────────┬──────────────┬────────────┬──────────────┐\n",
       "│ datetime     ┆ condo ┆ focal_id ┆ sex ┆ … ┆ grid_cell ┆ cell_locatio ┆ partner_id ┆ partner_inte │\n",
       "│ ---          ┆ ---   ┆ ---      ┆ --- ┆   ┆ ---       ┆ n            ┆ ---        ┆ raction      │\n",
       "│ datetime[μs, ┆ str   ┆ str      ┆ str ┆   ┆ str       ┆ ---          ┆ str        ┆ ---          │\n",
       "│ UTC]         ┆       ┆          ┆     ┆   ┆           ┆ str          ┆            ┆ str          │\n",
       "╞══════════════╪═══════╪══════════╪═════╪═══╪═══════════╪══════════════╪════════════╪══════════════╡\n",
       "│ 2018-06-27   ┆ 6B    ┆ 3PS      ┆ F   ┆ … ┆ A02       ┆ C            ┆ null       ┆ null         │\n",
       "│ 06:26:00 UTC ┆       ┆          ┆     ┆   ┆           ┆              ┆            ┆              │\n",
       "│ 2018-06-27   ┆ 6B    ┆ 3HO      ┆ F   ┆ … ┆ W         ┆ null         ┆ null       ┆ null         │\n",
       "│ 06:27:00 UTC ┆       ┆          ┆     ┆   ┆           ┆              ┆            ┆              │\n",
       "│ 2018-06-27   ┆ 6B    ┆ 2B3      ┆ M   ┆ … ┆ W         ┆ null         ┆ null       ┆ null         │\n",
       "│ 06:27:00 UTC ┆       ┆          ┆     ┆   ┆           ┆              ┆            ┆              │\n",
       "│ 2018-06-27   ┆ 6B    ┆ 2LM      ┆ M   ┆ … ┆ A09       ┆ B            ┆ null       ┆ null         │\n",
       "│ 06:28:00 UTC ┆       ┆          ┆     ┆   ┆           ┆              ┆            ┆              │\n",
       "│ 2018-06-27   ┆ 6B    ┆ 3KL      ┆ F   ┆ … ┆ A10       ┆ T            ┆ null       ┆ null         │\n",
       "│ 06:29:00 UTC ┆       ┆          ┆     ┆   ┆           ┆              ┆            ┆              │\n",
       "└──────────────┴───────┴──────────┴─────┴───┴───────────┴──────────────┴────────────┴──────────────┘"
      ]
     },
     "execution_count": 23,
     "metadata": {},
     "output_type": "execute_result"
    }
   ],
   "source": [
    "df.head()"
   ]
  },
  {
   "cell_type": "code",
   "execution_count": 25,
   "id": "a622a29c",
   "metadata": {},
   "outputs": [
    {
     "data": {
      "text/html": [
       "<div><style>\n",
       ".dataframe > thead > tr,\n",
       ".dataframe > tbody > tr {\n",
       "  text-align: right;\n",
       "  white-space: pre-wrap;\n",
       "}\n",
       "</style>\n",
       "<small>shape: (5, 9)</small><table border=\"1\" class=\"dataframe\"><thead><tr><th>datetime</th><th>condo</th><th>focal_id</th><th>sex</th><th>behavior</th><th>grid_cell</th><th>cell_location</th><th>partner_id</th><th>partner_interaction</th></tr><tr><td>datetime[μs, UTC]</td><td>str</td><td>str</td><td>str</td><td>str</td><td>str</td><td>str</td><td>str</td><td>str</td></tr></thead><tbody><tr><td>2018-07-01 07:00:00 UTC</td><td>&quot;6B&quot;</td><td>&quot;2LM&quot;</td><td>&quot;M&quot;</td><td>&quot;S&quot;</td><td>&quot;A17&quot;</td><td>&quot;B&quot;</td><td>null</td><td>null</td></tr><tr><td>2018-07-01 07:01:00 UTC</td><td>&quot;6B&quot;</td><td>&quot;2PA&quot;</td><td>&quot;M&quot;</td><td>&quot;CRT&quot;</td><td>&quot;B10&quot;</td><td>&quot;B&quot;</td><td>&quot;3TL&quot;</td><td>&quot;Mating Partners&quot;</td></tr><tr><td>2018-07-01 07:01:00 UTC</td><td>&quot;6B&quot;</td><td>&quot;3TL&quot;</td><td>&quot;F&quot;</td><td>&quot;CRT&quot;</td><td>&quot;B10&quot;</td><td>&quot;B&quot;</td><td>&quot;2PA&quot;</td><td>&quot;Mating Partners&quot;</td></tr><tr><td>2018-07-01 07:02:00 UTC</td><td>&quot;6B&quot;</td><td>&quot;3PL&quot;</td><td>&quot;F&quot;</td><td>&quot;S&quot;</td><td>&quot;B17&quot;</td><td>&quot;T&quot;</td><td>null</td><td>null</td></tr><tr><td>2018-07-01 07:05:00 UTC</td><td>&quot;6B&quot;</td><td>&quot;3OP&quot;</td><td>&quot;F&quot;</td><td>&quot;G&quot;</td><td>&quot;C01&quot;</td><td>&quot;B&quot;</td><td>&quot;2SM&quot;</td><td>&quot;Mating Partners&quot;</td></tr></tbody></table></div>"
      ],
      "text/plain": [
       "shape: (5, 9)\n",
       "┌──────────────┬───────┬──────────┬─────┬───┬───────────┬──────────────┬────────────┬──────────────┐\n",
       "│ datetime     ┆ condo ┆ focal_id ┆ sex ┆ … ┆ grid_cell ┆ cell_locatio ┆ partner_id ┆ partner_inte │\n",
       "│ ---          ┆ ---   ┆ ---      ┆ --- ┆   ┆ ---       ┆ n            ┆ ---        ┆ raction      │\n",
       "│ datetime[μs, ┆ str   ┆ str      ┆ str ┆   ┆ str       ┆ ---          ┆ str        ┆ ---          │\n",
       "│ UTC]         ┆       ┆          ┆     ┆   ┆           ┆ str          ┆            ┆ str          │\n",
       "╞══════════════╪═══════╪══════════╪═════╪═══╪═══════════╪══════════════╪════════════╪══════════════╡\n",
       "│ 2018-07-01   ┆ 6B    ┆ 2LM      ┆ M   ┆ … ┆ A17       ┆ B            ┆ null       ┆ null         │\n",
       "│ 07:00:00 UTC ┆       ┆          ┆     ┆   ┆           ┆              ┆            ┆              │\n",
       "│ 2018-07-01   ┆ 6B    ┆ 2PA      ┆ M   ┆ … ┆ B10       ┆ B            ┆ 3TL        ┆ Mating       │\n",
       "│ 07:01:00 UTC ┆       ┆          ┆     ┆   ┆           ┆              ┆            ┆ Partners     │\n",
       "│ 2018-07-01   ┆ 6B    ┆ 3TL      ┆ F   ┆ … ┆ B10       ┆ B            ┆ 2PA        ┆ Mating       │\n",
       "│ 07:01:00 UTC ┆       ┆          ┆     ┆   ┆           ┆              ┆            ┆ Partners     │\n",
       "│ 2018-07-01   ┆ 6B    ┆ 3PL      ┆ F   ┆ … ┆ B17       ┆ T            ┆ null       ┆ null         │\n",
       "│ 07:02:00 UTC ┆       ┆          ┆     ┆   ┆           ┆              ┆            ┆              │\n",
       "│ 2018-07-01   ┆ 6B    ┆ 3OP      ┆ F   ┆ … ┆ C01       ┆ B            ┆ 2SM        ┆ Mating       │\n",
       "│ 07:05:00 UTC ┆       ┆          ┆     ┆   ┆           ┆              ┆            ┆ Partners     │\n",
       "└──────────────┴───────┴──────────┴─────┴───┴───────────┴──────────────┴────────────┴──────────────┘"
      ]
     },
     "execution_count": 25,
     "metadata": {},
     "output_type": "execute_result"
    }
   ],
   "source": [
    "df_filtered = df.filter(\n",
    "    (pl.col(\"condo\") == \"6B\") &\n",
    "    (pl.col(\"datetime\").dt.year() == 2018) &\n",
    "    (pl.col(\"datetime\").dt.month() == 7)\n",
    ")\n",
    "\n",
    "\n",
    "df_filtered.head()"
   ]
  },
  {
   "cell_type": "markdown",
   "id": "b95c754e",
   "metadata": {},
   "source": [
    "We can use a one-line function to do the above task using bitwise operators."
   ]
  },
  {
   "cell_type": "code",
   "execution_count": null,
   "id": "fb479b9a",
   "metadata": {},
   "outputs": [],
   "source": [
    "# code above"
   ]
  },
  {
   "cell_type": "markdown",
   "id": "c3f70597",
   "metadata": {},
   "source": [
    "# Creating Networks\n",
    "\n",
    "Now that we have our data filtered, we can start to build our networks. We will use the networkx library to build our networks. The first step is to create an empty graph using the `Graph` function (Just like in Lab 1)."
   ]
  },
  {
   "cell_type": "code",
   "execution_count": 28,
   "id": "8a85ed6f",
   "metadata": {},
   "outputs": [
    {
     "data": {
      "text/plain": [
       "<networkx.classes.graph.Graph at 0x24e8f1f0cd0>"
      ]
     },
     "execution_count": 28,
     "metadata": {},
     "output_type": "execute_result"
    }
   ],
   "source": [
    "import networkx as nx\n",
    "\n",
    "G = nx.Graph()\n",
    "G"
   ]
  },
  {
   "cell_type": "markdown",
   "id": "f9067b3e",
   "metadata": {},
   "source": [
    "Now we will add nodes to our graph. We will add all the unique `focal_id` values as nodes in our graph. We can do this using the `add_nodes_from` function to add all the nodes at once."
   ]
  },
  {
   "cell_type": "code",
   "execution_count": null,
   "id": "b67cd7bc",
   "metadata": {},
   "outputs": [],
   "source": []
  },
  {
   "cell_type": "code",
   "execution_count": null,
   "id": "6a491314",
   "metadata": {},
   "outputs": [],
   "source": [
    "for r in df_filtered: \n",
    "    G.add"
   ]
  },
  {
   "cell_type": "markdown",
   "id": "54b32c98",
   "metadata": {},
   "source": [
    "Now we will add edges to our graph. We will add an edge between two nodes if there is an interaction between them. We can do this using the `add_edges_from` function to add all the edges at once. For now we will edges for all types of interactions. We will filter for specific types of interactions later. We use `rows()` to convert the polars dataframe to a list of tuples, which is the format that the `add_edges_from` function expects.\n",
    "\n",
    "A faster function to use would be the `iter_rows` function, which returns an iterator over the rows of the dataframe. This is more memory efficient than converting the entire dataframe to a list of tuples."
   ]
  },
  {
   "cell_type": "code",
   "execution_count": null,
   "id": "3902dd19",
   "metadata": {},
   "outputs": [],
   "source": []
  },
  {
   "cell_type": "markdown",
   "id": "95819080",
   "metadata": {},
   "source": [
    "We can now draw the network using the `draw` function. This function takes in the graph and some optional parameters to customize the appearance of the graph."
   ]
  },
  {
   "cell_type": "code",
   "execution_count": null,
   "id": "e1b4b306",
   "metadata": {},
   "outputs": [],
   "source": []
  },
  {
   "cell_type": "markdown",
   "id": "2a0b0c4e",
   "metadata": {},
   "source": [
    "Lets print some statistics about our network, like the mean degree, clustering coefficient and the density of the network."
   ]
  },
  {
   "cell_type": "code",
   "execution_count": null,
   "id": "760271f1",
   "metadata": {},
   "outputs": [],
   "source": []
  },
  {
   "cell_type": "markdown",
   "id": "3e8cc2a8",
   "metadata": {},
   "source": [
    "Seems like our network is very well connected. This is likely because we included all types of interactions in our network. Let's try filtering for specific types of interactions and see how that affects the network. Let's start by filtering for only \"Touch Partners\" interactions."
   ]
  },
  {
   "cell_type": "code",
   "execution_count": null,
   "id": "1d655d18",
   "metadata": {},
   "outputs": [],
   "source": []
  },
  {
   "cell_type": "markdown",
   "id": "f4136b58",
   "metadata": {},
   "source": [
    "Lets reuse the previous code to print out the new statistics for this network."
   ]
  },
  {
   "cell_type": "code",
   "execution_count": null,
   "id": "3b77375b",
   "metadata": {},
   "outputs": [],
   "source": []
  },
  {
   "cell_type": "markdown",
   "id": "14689647",
   "metadata": {},
   "source": [
    "Now the network is much less connected. On average it seems like each beetle only touches 5 other beetles. This is likely a more accurate representation of the social structure of the beetles. We can also try filtering for other types of interactions and see how that affects the network.\n",
    "\n",
    "Then we can start having some fun, we can try and figure out if there is any correlation between the different types of interactions. For example, do beetles that touch each other also tend to be mates? We can use the Jaccard index to calculate the similarity between the two networks. The Jaccard index is defined as the number of edges in the intersection of the two networks (i.e. present in both networks) divided by the number of edges in the union of the two networks (i.e. all the edges present in total from both networks).\n",
    "\n",
    "Here is an example of how to calculate the Jaccard index using two example networks.\n",
    "```python\n",
    "# Creating network 1\n",
    "G1 = nx.Graph()\n",
    "G1.add_nodes_from([1, 2, 3, 4, 5]) # Adding nodes\n",
    "G1.add_edges_from([(1, 2), (2, 3), (3, 4), (4, 1)]) # Adding edges\n",
    "\n",
    "# Creating network 2\n",
    "G2 = nx.Graph()\n",
    "G2.add_nodes_from([1, 2, 3, 4, 5]) # Adding nodes\n",
    "G2.add_edges_from([(2, 3), (3, 4), (4, 5)]) # Adding edges\n",
    "\n",
    "# Calculating Jaccard index\n",
    "edges_G1 = set(G1.edges())\n",
    "edges_G2 = set(G2.edges())\n",
    "\n",
    "intersection_size = len(edges_G1.intersection(edges_G2)) # Number of edges in both networks\n",
    "union_size = len(edges_G1.union(edges_G2)) # Number of edges in either network\n",
    "jaccard_index = intersection / union\n",
    "\n",
    "print(f'Jaccard index: {jaccard_index}')\n",
    "```"
   ]
  },
  {
   "cell_type": "markdown",
   "id": "a364ba0b",
   "metadata": {},
   "source": [
    "## Graded Activity\n",
    "\n",
    "* Load the data from CookSocial2020 dataset and clean the data to remove any bad values (like unknown males, females).\n",
    "* Create a network for the year 2020, and a condo of your choosing (mention which condo you chose).\n",
    "* Draw the network for different mating interactions (Mating Partners, Touch Partners, and 5 CM Partners), try to remove any isolates. Tell us what do you think, should isolates be considered while analysing networks or not and why? (Hint: Check the documentation for networkx to see how to remove isolates).\n",
    "* Check how the network statistics (degree, clustering coefficient, and density) change with different mating interactions.\n",
    "* What do these statistics tell you?\n",
    "* What would these different representations of the same data be useful for? State applications for each type of network you draw.\n",
    "\n",
    "(Optional, Ungraded activity) Check whether different interactions have a correlation, does a beetle with more Touch partners also get more Mates? (Hint: Calculate the Jaccard similarity between the edges of the two networks)."
   ]
  },
  {
   "cell_type": "markdown",
   "id": "ce3f18cd",
   "metadata": {},
   "source": [
    "**Student answer here**"
   ]
  }
 ],
 "metadata": {
  "kernelspec": {
   "display_name": "biol4559",
   "language": "python",
   "name": "python3"
  },
  "language_info": {
   "codemirror_mode": {
    "name": "ipython",
    "version": 3
   },
   "file_extension": ".py",
   "mimetype": "text/x-python",
   "name": "python",
   "nbconvert_exporter": "python",
   "pygments_lexer": "ipython3",
   "version": "3.13.5"
  }
 },
 "nbformat": 4,
 "nbformat_minor": 5
}
